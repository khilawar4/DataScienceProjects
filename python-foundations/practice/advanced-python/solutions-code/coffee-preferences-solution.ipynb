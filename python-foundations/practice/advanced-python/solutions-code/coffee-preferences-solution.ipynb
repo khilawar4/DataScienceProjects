{
 "cells": [
  {
   "cell_type": "markdown",
   "metadata": {},
   "source": [
    "---\n",
    "<a id='coffee_preference'></a>\n",
    "\n",
    "# Practice Control Flow on the Coffee Preference Data Set\n",
    "\n",
    "### 1) Load Coffee Preference data from file and print.\n",
    "\n",
    "The code to load in the data is provided below. \n",
    "\n",
    "The `with open(..., 'r') as f:` opens up a file in \"read\" mode (rather than \"write\") and assigns this opened file to `f`. \n",
    "\n",
    "We can then use the built-in `.readlines()` function to split the CSV file on newlines and assign it to the variable `lines`."
   ]
  },
  {
   "cell_type": "code",
   "execution_count": null,
   "metadata": {
    "ExecuteTime": {
     "end_time": "2020-11-09T07:00:54.666108Z",
     "start_time": "2020-11-09T07:00:54.660605Z"
    }
   },
   "outputs": [],
   "source": [
    "import random\n"
   ]
  },
  {
   "cell_type": "code",
   "execution_count": null,
   "metadata": {
    "ExecuteTime": {
     "end_time": "2020-11-09T07:00:55.284353Z",
     "start_time": "2020-11-09T07:00:55.278004Z"
    }
   },
   "outputs": [],
   "source": [
    "# Open and read in the coffee preference data set. Note we are opening the file for reading only.\n",
    "with open('../datasets/coffee-preferences.csv','r') as f:\n",
    "    lines = f.readlines()"
   ]
  },
  {
   "cell_type": "markdown",
   "metadata": {},
   "source": [
    "#### Iterate through `lines` and print them out."
   ]
  },
  {
   "cell_type": "code",
   "execution_count": null,
   "metadata": {
    "ExecuteTime": {
     "end_time": "2020-11-09T07:00:55.999787Z",
     "start_time": "2020-11-09T07:00:55.992531Z"
    }
   },
   "outputs": [],
   "source": [
    "for line in lines:\n",
    "    print(line)"
   ]
  },
  {
   "cell_type": "markdown",
   "metadata": {},
   "source": [
    "#### Print out just the `lines` object by typing \"lines\" in a cell and hitting `enter`.\n"
   ]
  },
  {
   "cell_type": "code",
   "execution_count": null,
   "metadata": {
    "ExecuteTime": {
     "end_time": "2020-11-09T07:00:56.461839Z",
     "start_time": "2020-11-09T07:00:56.449665Z"
    }
   },
   "outputs": [],
   "source": [
    "lines"
   ]
  },
  {
   "cell_type": "markdown",
   "metadata": {
    "ExecuteTime": {
     "end_time": "2020-06-09T02:04:29.785314Z",
     "start_time": "2020-06-09T02:04:29.778108Z"
    }
   },
   "source": [
    "---\n",
    "\n",
    "### 2) Remove the remaining newline `'\\n'` characters with a `for` loop.\n",
    "\n",
    "Iterate through the lines of the data and remove the unwanted newline characters.\n",
    "\n",
    "**.replace('\\n', '')** is a built-in string function that will take the substring you want to replace as its first argument and the string you want to replace it with as its second."
   ]
  },
  {
   "cell_type": "code",
   "execution_count": null,
   "metadata": {
    "ExecuteTime": {
     "end_time": "2020-11-09T07:00:57.210986Z",
     "start_time": "2020-11-09T07:00:57.203468Z"
    }
   },
   "outputs": [],
   "source": [
    "# create an empty list to hold our cleaned data.\n",
    "cleaned_lines = []\n",
    "for line in lines:\n",
    "    cleaned_lines.append(line.replace('\\n',''))\n",
    "\n",
    "cleaned_lines"
   ]
  },
  {
   "cell_type": "code",
   "execution_count": null,
   "metadata": {},
   "outputs": [],
   "source": [
    "cleaned_lines = [line.strip('\\n') for line in lines  ]\n",
    "cleaned_lines"
   ]
  },
  {
   "cell_type": "markdown",
   "metadata": {},
   "source": [
    "---\n",
    "\n",
    "### 3) Split the lines into \"header\" and \"data\" variables.\n",
    "\n",
    "The header is the first string in the list of strings. It contains our data's column names."
   ]
  },
  {
   "cell_type": "code",
   "execution_count": null,
   "metadata": {
    "ExecuteTime": {
     "end_time": "2020-11-09T07:00:57.707256Z",
     "start_time": "2020-11-09T07:00:57.703815Z"
    }
   },
   "outputs": [],
   "source": [
    "header = cleaned_lines[0]\n",
    "data = cleaned_lines[1:]"
   ]
  },
  {
   "cell_type": "code",
   "execution_count": null,
   "metadata": {
    "ExecuteTime": {
     "end_time": "2020-11-09T07:00:58.407884Z",
     "start_time": "2020-11-09T07:00:58.401428Z"
    }
   },
   "outputs": [],
   "source": [
    "header"
   ]
  },
  {
   "cell_type": "markdown",
   "metadata": {},
   "source": [
    "---\n",
    "\n",
    "### 4) Split the header and data strings on commas.\n",
    "\n",
    "To split a string on the comma character, use the built-in **`.split(',')`** function. \n",
    "\n",
    "Split the header on commas, then print it. You can see that the original string is now a list containing items that were originally separated by commas."
   ]
  },
  {
   "cell_type": "code",
   "execution_count": null,
   "metadata": {
    "ExecuteTime": {
     "end_time": "2020-11-09T07:01:01.249606Z",
     "start_time": "2020-11-09T07:01:01.243510Z"
    },
    "scrolled": true
   },
   "outputs": [],
   "source": [
    "# Split on commas:\n",
    "header = header.split(',')\n",
    "print(header)\n",
    "\n",
    "split_data = []\n",
    "for d in data:\n",
    "    split_data.append(d.split(','))"
   ]
  },
  {
   "cell_type": "code",
   "execution_count": null,
   "metadata": {
    "ExecuteTime": {
     "end_time": "2020-11-09T07:01:02.137029Z",
     "start_time": "2020-11-09T07:01:02.129604Z"
    }
   },
   "outputs": [],
   "source": [
    "split_data[:3]"
   ]
  },
  {
   "cell_type": "markdown",
   "metadata": {},
   "source": [
    "---\n",
    "\n",
    "### 5) Remove the \"Timestamp\" column.\n",
    "\n",
    "We aren't interested in the \"Timestamp\" column in our data, so remove it from the header and data list.\n",
    "\n",
    "Removing \"Timestamp\" from the header can be done with list functions or with slicing. To remove the header column from the data, use a `for` loop.\n",
    "\n",
    "Print out the new data object with the timestamps removed."
   ]
  },
  {
   "cell_type": "code",
   "execution_count": null,
   "metadata": {
    "ExecuteTime": {
     "end_time": "2020-11-09T07:01:03.276689Z",
     "start_time": "2020-11-09T07:01:03.259349Z"
    }
   },
   "outputs": [],
   "source": [
    "# Remove Timestamp - just exclude the 1st element in the header and each row of data.\n",
    "header = header[1:]\n",
    "\n",
    "data_nots = []\n",
    "for row in split_data:\n",
    "    data_nots.append(row[1:])\n",
    "    \n",
    "data_nots"
   ]
  },
  {
   "cell_type": "markdown",
   "metadata": {},
   "source": [
    "---\n",
    "\n",
    "### 6) Convert numeric columns to floats and empty fields to `None`.\n",
    "\n",
    "Iterate through the data and construct a new data list of lists that contains the numeric ratings converted from strings to floats and the empty fields (which are empty strings, '') replaced with the `None` object.\n",
    "\n",
    "Use a nested `for` loop (a `for` loop within another `for` loop) to get the job done. You will likely need to use `if… else` conditional statements as well.\n",
    "\n",
    "Print out the new data object to make sure you've succeeded."
   ]
  },
  {
   "cell_type": "code",
   "execution_count": null,
   "metadata": {
    "ExecuteTime": {
     "end_time": "2020-11-09T07:01:04.615527Z",
     "start_time": "2020-11-09T07:01:04.604750Z"
    }
   },
   "outputs": [],
   "source": [
    "data_num = []\n",
    "for row in data_nots:\n",
    "    new_row = []\n",
    "    for i, col in enumerate(row):\n",
    "        if i == 0:\n",
    "            new_row.append(col)\n",
    "        else:\n",
    "            if col == '':\n",
    "                new_row.append(None)\n",
    "            else:\n",
    "                new_row.append(float(col))\n",
    "    \n",
    "    data_num.append(new_row)\n",
    "    \n",
    "data_num"
   ]
  },
  {
   "cell_type": "markdown",
   "metadata": {},
   "source": [
    "---\n",
    "\n",
    "### 7) Count the `None` values per person and put the counts in a dictionary.\n",
    "\n",
    "Use a `for` loop to count the number of `None` values per person. Create a dictionary with the names of the people as keys and the counts of `None` as values.\n",
    "\n",
    "Who rated the most coffee brands? Who rated the least?"
   ]
  },
  {
   "cell_type": "code",
   "execution_count": null,
   "metadata": {
    "ExecuteTime": {
     "end_time": "2020-11-09T07:01:06.154503Z",
     "start_time": "2020-11-09T07:01:06.141388Z"
    },
    "scrolled": true
   },
   "outputs": [],
   "source": [
    "# rated least\n",
    "\n",
    "def ratings_amount(data, least=True):\n",
    "    \"\"\"determine who rated the least or most brands\"\"\"\n",
    "\n",
    "    user_nones = {}\n",
    "    for row in data:\n",
    "        nones = 0\n",
    "        for cell in row:\n",
    "            if cell == None:\n",
    "                nones += 1\n",
    "\n",
    "        user_nones[row[0]] = nones\n",
    "        \n",
    "    if least:\n",
    "        rating_count = [key for m in [max(user_nones.values())] for key,val in user_nones.items() if val == m]\n",
    "    else:\n",
    "        rating_count = [key for m in [min(user_nones.values())] for key,val in user_nones.items() if val == m]\n",
    "\n",
    "    return rating_count\n",
    "\n",
    "ratings_amount(data_num, least=True)\n",
    "\n",
    "# Least: Alex, Dave H, cheong-tseng\n",
    "# Most: Hugh Jass, Matt, Rocky, Vijay"
   ]
  },
  {
   "cell_type": "markdown",
   "metadata": {},
   "source": [
    "---\n",
    "\n",
    "### 8) Calculate average rating per coffee brand.\n",
    "\n",
    "**Excluding `None` values**, calculate the average rating per brand of coffee.\n",
    "\n",
    "The final output should be a dictionary with the coffee brand names as keys and their average rating as the values.\n",
    "\n",
    "Remember that the average can be calculated as the sum of the ratings over the number of ratings:\n",
    "\n",
    "```python\n",
    "average_rating = float(sum(ratings_list))/len(ratings_list)\n",
    "```\n",
    "\n",
    "Print your dictionary to see the average brand ratings."
   ]
  },
  {
   "cell_type": "code",
   "execution_count": null,
   "metadata": {
    "ExecuteTime": {
     "end_time": "2020-11-09T07:01:26.972700Z",
     "start_time": "2020-11-09T07:01:26.963129Z"
    }
   },
   "outputs": [],
   "source": [
    "brand_ratings = {}\n",
    "for brand in header[1:]:\n",
    "    brand_ratings[brand] = []\n",
    "\n",
    "for row in data_num:\n",
    "    for i, cell in enumerate(row):\n",
    "        if i > 0 and not cell == None:\n",
    "            brand_ratings[header[i]].append(cell)\n",
    "\n",
    "brand_avg_ratings = {}\n",
    "for brand, ratings in brand_ratings.items():\n",
    "    #print('{} {}'.format(brand, ratings))\n",
    "    brand_avg_ratings[brand] = round(sum(ratings)/len(ratings),2)\n",
    "    \n",
    "brand_avg_ratings"
   ]
  },
  {
   "cell_type": "markdown",
   "metadata": {},
   "source": [
    "---\n",
    "\n",
    "### 9) Create a list containing only the people's names."
   ]
  },
  {
   "cell_type": "code",
   "execution_count": null,
   "metadata": {
    "ExecuteTime": {
     "end_time": "2020-11-09T07:01:37.004679Z",
     "start_time": "2020-11-09T07:01:36.995909Z"
    }
   },
   "outputs": [],
   "source": [
    "people = []\n",
    "for row in data_num:\n",
    "    people.append(row[0])\n",
    "    \n",
    "print(len(people))\n",
    "people"
   ]
  },
  {
   "cell_type": "markdown",
   "metadata": {},
   "source": [
    "---\n",
    "\n",
    "### 11) Picking a name at random. How many attempts to choose the same name three times in a row?\n",
    "\n",
    "Now, we'll use a `while` loop to \"brute force\" the odds of choosing the same name three times in a row randomly from the list of names.\n",
    "\n",
    "\"Brute force\" is a term used quite frequently in programming to refer to a computationally inefficient way of solving a problem. It's brute force in this situation because we can use statistics to solve this much more efficiently than if we actually played out an entire scenario.\n",
    "\n",
    "Below, we've imported the **`random`** package, which has the essential function for this code: **`random.choice()`**.\n",
    "The function takes a list as an argument and returns one of the elements of that list at random."
   ]
  },
  {
   "cell_type": "code",
   "execution_count": null,
   "metadata": {
    "ExecuteTime": {
     "end_time": "2020-11-09T07:01:38.715627Z",
     "start_time": "2020-11-09T07:01:38.712543Z"
    }
   },
   "outputs": [],
   "source": [
    "#import random\n",
    "\n"
   ]
  },
  {
   "cell_type": "markdown",
   "metadata": {},
   "source": [
    "Write a function to choose a person from the list randomly three times and check if they are all the same.\n",
    "\n",
    "Define a function that has the following properties:\n",
    "\n",
    "1) Takes a list (your list of names) as an argument.\n",
    "2) Selects a name using `random.choice(people)` three separate times.\n",
    "3) Returns `True` if the name was the same all three times; otherwise returns `False`."
   ]
  },
  {
   "cell_type": "code",
   "execution_count": null,
   "metadata": {
    "ExecuteTime": {
     "end_time": "2020-11-09T07:01:40.773226Z",
     "start_time": "2020-11-09T07:01:40.765700Z"
    }
   },
   "outputs": [],
   "source": [
    "def choose_three(names):\n",
    "    \"\"\"Choose 3 names at random.\"\"\"\n",
    "    \n",
    "    person1 = random.choice(names)\n",
    "    person2 = random.choice(names)\n",
    "    person3 = random.choice(names)\n",
    "    \n",
    "    if person1 == person2 == person3:\n",
    "        return True\n",
    "    else:\n",
    "        return False\n",
    "    \n",
    "choose_three(people)"
   ]
  },
  {
   "cell_type": "markdown",
   "metadata": {},
   "source": [
    "---\n",
    "\n",
    "### 12) Construct a `while` loop to run the choosing function until it returns `True`.\n",
    "\n",
    "Run the function until you draw the same person three times using a `while` loop. Keep track of how many tries it took and print out the number of tries after it runs."
   ]
  },
  {
   "cell_type": "code",
   "execution_count": null,
   "metadata": {
    "ExecuteTime": {
     "end_time": "2020-11-09T07:02:37.740482Z",
     "start_time": "2020-11-09T07:02:37.728406Z"
    }
   },
   "outputs": [],
   "source": [
    "tries = 0\n",
    "chose_same_person = False\n",
    "\n",
    "while not chose_same_person:\n",
    "    tries += 1\n",
    "    \n",
    "    same_person = choose_three(people)\n",
    "    if same_person:\n",
    "        chose_same_person = True\n",
    "\n",
    "tries"
   ]
  },
  {
   "cell_type": "markdown",
   "metadata": {},
   "source": [
    "\n",
    "<a name=\"conclusion\"></a>\n",
    "## Lesson Summary\n",
    "\n",
    "Let's review what we learned in this lab. We:\n",
    "\n",
    "- Discussed why Python is popular for data science.\n",
    "- Demonstrated basic data science tasks using `Python` control flow and functions. These function helped us parse, clean, edit, and analyze the Coffee Preferences data set.\n",
    "\n",
    "\n",
    "### Additional Questions?\n",
    "\n",
    "....\n",
    "\n",
    "### Additional Resources\n",
    "\n",
    "- [Learn Python on Codecademy](https://www.codecademy.com/learn/python)\n",
    "- [Learn Python the Hard Way](https://learnpythonthehardway.org)\n",
    "- [Python Data Types and Variables](http://www.python-course.eu/variables.php)\n",
    "- [Python IF… ELIF… ELSE Statements](https://www.tutorialspoint.com/python/python_if_else.htm)\n",
    "- [Python Loops](https://www.tutorialspoint.com/python/python_loops.htm)\n",
    "- [Python Control Flow](https://python.swaroopch.com/control_flow.html)"
   ]
  },
  {
   "cell_type": "code",
   "execution_count": null,
   "metadata": {},
   "outputs": [],
   "source": []
  }
 ],
 "metadata": {
  "kernelspec": {
   "display_name": "Python 3",
   "language": "python",
   "name": "python3"
  },
  "language_info": {
   "codemirror_mode": {
    "name": "ipython",
    "version": 3
   },
   "file_extension": ".py",
   "mimetype": "text/x-python",
   "name": "python",
   "nbconvert_exporter": "python",
   "pygments_lexer": "ipython3",
   "version": "3.7.3"
  },
  "toc": {
   "base_numbering": 1,
   "nav_menu": {},
   "number_sections": false,
   "sideBar": true,
   "skip_h1_title": false,
   "title_cell": "Table of Contents",
   "title_sidebar": "Contents",
   "toc_cell": false,
   "toc_position": {},
   "toc_section_display": true,
   "toc_window_display": false
  }
 },
 "nbformat": 4,
 "nbformat_minor": 2
}
