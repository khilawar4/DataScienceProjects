{
 "cells": [
  {
   "cell_type": "markdown",
   "metadata": {},
   "source": [
    "# Working with Dictionaries - Practice\n",
    "\n",
    "## Introduction\n",
    "Use this notebook to practice working with dictionaries. We've provided data on cities around the world with name, country, population and area.\n",
    "\n",
    "## Objectives\n",
    "You will be able to:\n",
    "* Understand dictionaries and how to use them\n",
    "\n",
    "## Instructions\n",
    "\n",
    "Here's a dictionary for the city of New Orleans, LA.  (All areas are in kilometers squared)"
   ]
  },
  {
   "cell_type": "code",
   "execution_count": 1,
   "metadata": {
    "ExecuteTime": {
     "end_time": "2020-09-22T15:51:13.996163Z",
     "start_time": "2020-09-22T15:51:13.988659Z"
    }
   },
   "outputs": [],
   "source": [
    "neworleans = {'Area': 906, 'City': 'New Orleans', 'Country': 'USA', 'Population': 343829}"
   ]
  },
  {
   "cell_type": "markdown",
   "metadata": {},
   "source": [
    "\n",
    "Let's retrieve the population of the city and assign it to the variable `nola_pop` and display the result."
   ]
  },
  {
   "cell_type": "code",
   "execution_count": 2,
   "metadata": {
    "ExecuteTime": {
     "end_time": "2020-09-22T15:51:49.194181Z",
     "start_time": "2020-09-22T15:51:49.175810Z"
    }
   },
   "outputs": [
    {
     "data": {
      "text/plain": [
       "343829"
      ]
     },
     "execution_count": 2,
     "metadata": {},
     "output_type": "execute_result"
    }
   ],
   "source": [
    "nola_pop = neworleans['Population'] # change None\n",
    "nola_pop # 343829"
   ]
  },
  {
   "cell_type": "markdown",
   "metadata": {},
   "source": [
    "Now retrieve the area of New Orleans and assign it to the variable `nola_area`."
   ]
  },
  {
   "cell_type": "code",
   "execution_count": 3,
   "metadata": {
    "ExecuteTime": {
     "end_time": "2020-09-22T15:52:20.202293Z",
     "start_time": "2020-09-22T15:52:20.195751Z"
    }
   },
   "outputs": [
    {
     "data": {
      "text/plain": [
       "906"
      ]
     },
     "execution_count": 3,
     "metadata": {},
     "output_type": "execute_result"
    }
   ],
   "source": [
    "nola_area = neworleans['Area'] # replace the None\n",
    "nola_area # 906"
   ]
  },
  {
   "cell_type": "markdown",
   "metadata": {},
   "source": [
    "Now let's take a look at all of the keys in the `New Orleans` dictionary and put them into a list.  Assign this variable to the list `city_keys`."
   ]
  },
  {
   "cell_type": "code",
   "execution_count": 14,
   "metadata": {
    "ExecuteTime": {
     "end_time": "2020-09-22T16:14:15.997041Z",
     "start_time": "2020-09-22T16:14:15.976332Z"
    }
   },
   "outputs": [
    {
     "data": {
      "text/plain": [
       "['Area', 'City', 'Country', 'Population']"
      ]
     },
     "execution_count": 14,
     "metadata": {},
     "output_type": "execute_result"
    }
   ],
   "source": [
    "city_keys = list(neworleans.keys())\n",
    "city_keys # ['Area', 'City', 'Country', 'Population']"
   ]
  },
  {
   "cell_type": "markdown",
   "metadata": {},
   "source": [
    "Alright, next let's get all of the values in our greenville dictionary and coerce it into a list.  Assign that list to the variable `city_values`."
   ]
  },
  {
   "cell_type": "code",
   "execution_count": 15,
   "metadata": {
    "ExecuteTime": {
     "end_time": "2020-09-22T16:14:19.721880Z",
     "start_time": "2020-09-22T16:14:19.717204Z"
    }
   },
   "outputs": [
    {
     "data": {
      "text/plain": [
       "[906, 'New Orleans', 'USA', 343829]"
      ]
     },
     "execution_count": 15,
     "metadata": {},
     "output_type": "execute_result"
    }
   ],
   "source": [
    "city_values = list(neworleans.values())\n",
    "city_values # [906, 'New Orleans', 'USA', 343829]"
   ]
  },
  {
   "cell_type": "markdown",
   "metadata": {},
   "source": [
    "## Working with Data\n",
    "\n",
    "Most of the data used in this class will be stored somewhere and you'll have to read it in.\n",
    "We can retrieve our data from an excel spreadsheet ```cities.xlsx```.\n",
    "\n",
    "The spreadsheet is located in the ```./assets/datasets/cities.xlsx```. Next, we will use a **Pandas** to easily read this data from the excel file this notebook. "
   ]
  },
  {
   "cell_type": "code",
   "execution_count": 6,
   "metadata": {
    "ExecuteTime": {
     "end_time": "2020-09-22T15:55:38.008765Z",
     "start_time": "2020-09-22T15:55:35.678096Z"
    }
   },
   "outputs": [],
   "source": [
    "import pandas as pd\n",
    "file_name = '../datasets/cities.xlsx'\n",
    "cities_df = pd.read_excel(file_name)\n",
    "cities = cities_df.to_dict('records') #'records' gives list of dictionaires as a result."
   ]
  },
  {
   "cell_type": "markdown",
   "metadata": {},
   "source": [
    "We'll discuss pandas in more detail soon. For now we're just using it as a simple way to get data into the notebook and convert it to a set of dictionaries.\n",
    "\n",
    "Let's take a look at what the data looks like now."
   ]
  },
  {
   "cell_type": "code",
   "execution_count": 10,
   "metadata": {
    "ExecuteTime": {
     "end_time": "2020-09-22T15:59:25.516375Z",
     "start_time": "2020-09-22T15:59:25.505582Z"
    }
   },
   "outputs": [
    {
     "data": {
      "text/plain": [
       "[{'City': 'Split', 'Country': 'Croatia', 'Population': 178192, 'Area': 79},\n",
       " {'City': 'New Orleans', 'Country': 'USA', 'Population': 343829, 'Area': 906},\n",
       " {'City': 'Buenos Aires',\n",
       "  'Country': 'Argentina',\n",
       "  'Population': 2891082,\n",
       "  'Area': 203},\n",
       " {'City': 'Mexico City',\n",
       "  'Country': 'Mexico',\n",
       "  'Population': 8918653,\n",
       "  'Area': 1485},\n",
       " {'City': 'Berlin', 'Country': 'Germany', 'Population': 3769495, 'Area': 891},\n",
       " {'City': 'Tokyo', 'Country': 'Japan', 'Population': 13929280, 'Area': 2194},\n",
       " {'City': 'Liverpool', 'Country': 'UK', 'Population': 498042, 'Area': 112},\n",
       " {'City': 'Copenhagen',\n",
       "  'Country': 'Denmark',\n",
       "  'Population': 794128,\n",
       "  'Area': 180},\n",
       " {'City': 'San Jose',\n",
       "  'Country': 'Costa Rica',\n",
       "  'Population': 342188,\n",
       "  'Area': 45},\n",
       " {'City': 'Milan', 'Country': 'Italy', 'Population': 1404431, 'Area': 182},\n",
       " {'City': 'Toronto', 'Country': 'Canada', 'Population': 2731571, 'Area': 630},\n",
       " {'City': 'Seoul',\n",
       "  'Country': 'South Korea',\n",
       "  'Population': 9733509,\n",
       "  'Area': 605},\n",
       " {'City': 'Warsaw', 'Country': 'Poland', 'Population': 1790658, 'Area': 517},\n",
       " {'City': 'Barcelona', 'Country': 'Spain', 'Population': 1620343, 'Area': 101},\n",
       " {'City': 'Marseille', 'Country': 'France', 'Population': 870018, 'Area': 241},\n",
       " {'City': 'Tehran', 'Country': 'Iran', 'Population': 9033000, 'Area': 1200},\n",
       " {'City': 'Tel Aviv', 'Country': 'Israel', 'Population': 451523, 'Area': 52},\n",
       " {'City': 'Nairobi', 'Country': 'Kenya', 'Population': 4397073, 'Area': 696}]"
      ]
     },
     "execution_count": 10,
     "metadata": {},
     "output_type": "execute_result"
    }
   ],
   "source": [
    "cities"
   ]
  },
  {
   "cell_type": "markdown",
   "metadata": {},
   "source": [
    "We now have a list of dictionaries, one for each city.\n",
    "\n",
    "### List of cities\n",
    "\n",
    "First, access the third to last element and set it equal to the variable `tehran`."
   ]
  },
  {
   "cell_type": "code",
   "execution_count": 11,
   "metadata": {
    "ExecuteTime": {
     "end_time": "2020-09-22T16:00:07.812770Z",
     "start_time": "2020-09-22T16:00:07.807619Z"
    }
   },
   "outputs": [
    {
     "data": {
      "text/plain": [
       "{'City': 'Tehran', 'Country': 'Iran', 'Population': 9033000, 'Area': 1200}"
      ]
     },
     "execution_count": 11,
     "metadata": {},
     "output_type": "execute_result"
    }
   ],
   "source": [
    "tehran = cities[-3]\n",
    "tehran\n",
    "# {'City': 'Tehran', 'Country': 'Iran', 'Population': 9033000, 'Area': 1200}"
   ]
  },
  {
   "cell_type": "markdown",
   "metadata": {},
   "source": [
    "Set the population of Berlin equal to a variable called `berlin`."
   ]
  },
  {
   "cell_type": "code",
   "execution_count": 13,
   "metadata": {
    "ExecuteTime": {
     "end_time": "2020-09-22T16:13:33.287907Z",
     "start_time": "2020-09-22T16:13:33.266219Z"
    }
   },
   "outputs": [
    {
     "data": {
      "text/plain": [
       "3769495"
      ]
     },
     "execution_count": 13,
     "metadata": {},
     "output_type": "execute_result"
    }
   ],
   "source": [
    "# Berlin is the 5th element in the list\n",
    "berlin = cities[4]['Population']\n",
    "berlin"
   ]
  },
  {
   "cell_type": "code",
   "execution_count": null,
   "metadata": {
    "ExecuteTime": {
     "end_time": "2020-08-30T05:32:30.853540Z",
     "start_time": "2020-08-30T05:32:30.847768Z"
    }
   },
   "outputs": [],
   "source": [
    "# An alternative approach\n",
    "for city in cities:\n",
    "    if city['City'] == 'Berlin':\n",
    "        berlin = city['Population']\n",
    "berlin # 3769495"
   ]
  },
  {
   "cell_type": "markdown",
   "metadata": {},
   "source": [
    "Now calculate the number of cities in the list and assign the number to the variable `city_count`."
   ]
  },
  {
   "cell_type": "code",
   "execution_count": null,
   "metadata": {
    "ExecuteTime": {
     "end_time": "2020-08-30T05:32:34.394161Z",
     "start_time": "2020-08-30T05:32:34.387918Z"
    },
    "scrolled": true
   },
   "outputs": [],
   "source": [
    "city_count = len(cities)\n",
    "city_count # 18"
   ]
  },
  {
   "cell_type": "markdown",
   "metadata": {},
   "source": [
    "Find the largest and smallest population. - Use a list comprehension to find."
   ]
  },
  {
   "cell_type": "code",
   "execution_count": null,
   "metadata": {
    "ExecuteTime": {
     "end_time": "2020-08-30T05:32:37.635938Z",
     "start_time": "2020-08-30T05:32:37.610067Z"
    },
    "scrolled": true
   },
   "outputs": [],
   "source": [
    "pop = [x['Population'] for x in cities]\n",
    "print(min(pop))\n",
    "print(max(pop))"
   ]
  },
  {
   "cell_type": "markdown",
   "metadata": {},
   "source": [
    "Print the city dictionary for each of the largest and smallest population"
   ]
  },
  {
   "cell_type": "code",
   "execution_count": null,
   "metadata": {
    "ExecuteTime": {
     "end_time": "2020-08-30T05:33:47.319004Z",
     "start_time": "2020-08-30T05:33:47.313008Z"
    }
   },
   "outputs": [],
   "source": [
    "for city in cities:\n",
    "    if city['Population'] == min(pop):\n",
    "        print(\"min population:\", city)\n",
    "    elif city['Population'] == max(pop):\n",
    "        print(\"max population:\", city)"
   ]
  },
  {
   "cell_type": "code",
   "execution_count": null,
   "metadata": {
    "ExecuteTime": {
     "end_time": "2020-08-30T05:34:33.363696Z",
     "start_time": "2020-08-30T05:34:33.358831Z"
    }
   },
   "outputs": [],
   "source": [
    "# an alternative approach\n",
    "print(min(cities, key=lambda x:x['Population']))\n",
    "print(max(cities, key=lambda x:x['Population']))"
   ]
  },
  {
   "cell_type": "markdown",
   "metadata": {},
   "source": [
    "Now let's work on retrieving a collection of information about a dictionary.  Use the appropriate dictionary method to obtain a list of values regarding Copenhagen. Assign the list to the variable `copenhagen_values`."
   ]
  },
  {
   "cell_type": "code",
   "execution_count": null,
   "metadata": {
    "ExecuteTime": {
     "end_time": "2020-08-30T05:36:11.760371Z",
     "start_time": "2020-08-30T05:36:11.754806Z"
    }
   },
   "outputs": [],
   "source": [
    "cities[7]"
   ]
  },
  {
   "cell_type": "code",
   "execution_count": null,
   "metadata": {
    "ExecuteTime": {
     "end_time": "2020-08-30T05:36:17.004849Z",
     "start_time": "2020-08-30T05:36:16.997104Z"
    }
   },
   "outputs": [],
   "source": [
    "copenhagen_values = list(cities[7].values())\n",
    "\n",
    "copenhagen_values # ['Copenhagen', 'Denmark', 794128, 180]"
   ]
  },
  {
   "cell_type": "markdown",
   "metadata": {},
   "source": [
    "And now set `copenhagen_keys` equal to a list of keys in the dictionary containing Copenhagen."
   ]
  },
  {
   "cell_type": "code",
   "execution_count": null,
   "metadata": {
    "ExecuteTime": {
     "end_time": "2020-06-09T06:33:39.014696Z",
     "start_time": "2020-06-09T06:33:39.007818Z"
    }
   },
   "outputs": [],
   "source": [
    "copenhagen_keys = list(cities[7].keys())\n",
    "\n",
    "\n",
    "copenhagen_keys # ['City', 'Country', 'Population', 'Area']\n"
   ]
  },
  {
   "cell_type": "markdown",
   "metadata": {},
   "source": [
    "## Bonus Exercises\n",
    "1. Find the city with the highest and smallest population density.\n",
    "2. Find the average population density.\n",
    "\n"
   ]
  },
  {
   "cell_type": "code",
   "execution_count": null,
   "metadata": {
    "ExecuteTime": {
     "end_time": "2020-08-30T05:39:58.292128Z",
     "start_time": "2020-08-30T05:39:58.283363Z"
    }
   },
   "outputs": [],
   "source": [
    "# density\n",
    "\n",
    "def find_density(pop, area):\n",
    "    return round(pop/area,2)\n",
    "\n",
    "find_density(cities[1]['Population'], cities[1]['Area'])"
   ]
  },
  {
   "cell_type": "code",
   "execution_count": null,
   "metadata": {
    "ExecuteTime": {
     "end_time": "2020-08-30T05:40:01.697627Z",
     "start_time": "2020-08-30T05:40:01.688857Z"
    }
   },
   "outputs": [],
   "source": [
    "density_cur = 0\n",
    "density_max = 0\n",
    "density_min = 1e9\n",
    "city_name = ''\n",
    "for city in cities:\n",
    "    density_cur = find_density(city['Population'], city['Area'])\n",
    "    if density_cur > density_max:\n",
    "        density_max = density_cur\n",
    "        city_name = city['City']\n",
    "\n",
    "print('max density: ', (city_name, density_max))\n",
    "\n",
    "for city in cities:\n",
    "    density_cur = find_density(city['Population'], city['Area'])\n",
    "    if density_cur < density_min:\n",
    "        density_min = density_cur\n",
    "        city_name = city['City']\n",
    "        \n",
    "print('min density: ', (city_name, density_min))\n"
   ]
  },
  {
   "cell_type": "code",
   "execution_count": null,
   "metadata": {
    "ExecuteTime": {
     "end_time": "2020-08-30T05:42:34.079568Z",
     "start_time": "2020-08-30T05:42:34.071979Z"
    }
   },
   "outputs": [],
   "source": [
    "density = []\n",
    "for city in cities:\n",
    "    density.append(find_density(city['Population'], city['Area']))\n",
    "#density_cur/len(cities)\n",
    "\n",
    "round(sum(density)/len(density), 2)"
   ]
  },
  {
   "cell_type": "markdown",
   "metadata": {},
   "source": [
    "## Summary\n",
    "\n",
    "In this section we saw how to retrieve and re-assign data in a dictionary.  We saw how we can retrieve a collection of information from a dictionary, like a list of it's keys and values, and we saw how we can work with a list of dictionaries."
   ]
  }
 ],
 "metadata": {
  "kernelspec": {
   "display_name": "Python 3",
   "language": "python",
   "name": "python3"
  },
  "language_info": {
   "codemirror_mode": {
    "name": "ipython",
    "version": 3
   },
   "file_extension": ".py",
   "mimetype": "text/x-python",
   "name": "python",
   "nbconvert_exporter": "python",
   "pygments_lexer": "ipython3",
   "version": "3.7.3"
  },
  "toc": {
   "base_numbering": 1,
   "nav_menu": {},
   "number_sections": true,
   "sideBar": true,
   "skip_h1_title": false,
   "title_cell": "Table of Contents",
   "title_sidebar": "Contents",
   "toc_cell": false,
   "toc_position": {},
   "toc_section_display": true,
   "toc_window_display": false
  }
 },
 "nbformat": 4,
 "nbformat_minor": 2
}
