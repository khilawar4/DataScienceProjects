{
 "cells": [
  {
   "cell_type": "markdown",
   "metadata": {},
   "source": [
    "# Working with Dictionaries - Practice\n",
    "\n",
    "## Introduction\n",
    "Use this notebook to practice working with dictionaries. We've provided data on cities around the world with name, country, population and area.\n",
    "\n",
    "## Objectives\n",
    "You will be able to:\n",
    "* Understand dictionaries and how to use them\n",
    "\n",
    "## Instructions\n",
    "\n",
    "Here's a dictionary for the city of New Orleans, LA.  (All areas are in kilometers squared)"
   ]
  },
  {
   "cell_type": "code",
   "execution_count": null,
   "metadata": {
    "ExecuteTime": {
     "end_time": "2020-11-09T06:54:29.868801Z",
     "start_time": "2020-11-09T06:54:28.308310Z"
    }
   },
   "outputs": [],
   "source": [
    "import pandas as pd"
   ]
  },
  {
   "cell_type": "code",
   "execution_count": null,
   "metadata": {
    "ExecuteTime": {
     "end_time": "2020-11-09T06:54:30.332875Z",
     "start_time": "2020-11-09T06:54:30.328874Z"
    }
   },
   "outputs": [],
   "source": [
    "neworleans = {'Area': 906, 'City': 'New Orleans', 'Country': 'USA', 'Population': 343829}"
   ]
  },
  {
   "cell_type": "markdown",
   "metadata": {},
   "source": [
    "\n",
    "Let's retrieve the population of the city and assign it to the variable `nola_pop` and display the result."
   ]
  },
  {
   "cell_type": "code",
   "execution_count": null,
   "metadata": {
    "ExecuteTime": {
     "end_time": "2020-11-09T06:55:03.240929Z",
     "start_time": "2020-11-09T06:55:03.229800Z"
    }
   },
   "outputs": [],
   "source": [
    "nola_pop = None # change None\n",
    "nola_pop # 343829"
   ]
  },
  {
   "cell_type": "markdown",
   "metadata": {},
   "source": [
    "Now retrieve the area of New Orleans and assign it to the variable `nola_area`."
   ]
  },
  {
   "cell_type": "code",
   "execution_count": null,
   "metadata": {
    "ExecuteTime": {
     "end_time": "2020-11-09T06:55:13.886652Z",
     "start_time": "2020-11-09T06:55:13.879686Z"
    }
   },
   "outputs": [],
   "source": [
    "nola_area = None # replace the None\n",
    "nola_area # 906"
   ]
  },
  {
   "cell_type": "markdown",
   "metadata": {},
   "source": [
    "Now let's take a look at all of the keys in the `New Orleans` dictionary and put them into a list.  Assign this variable to the list `city_keys`."
   ]
  },
  {
   "cell_type": "code",
   "execution_count": null,
   "metadata": {
    "ExecuteTime": {
     "end_time": "2020-11-09T06:54:39.876541Z",
     "start_time": "2020-11-09T06:54:39.872750Z"
    }
   },
   "outputs": [],
   "source": [
    "city_keys = None\n",
    "city_keys # ['Area', 'City', 'Country', 'Population']"
   ]
  },
  {
   "cell_type": "markdown",
   "metadata": {},
   "source": [
    "Alright, next let's get all of the values in our greenville dictionary and coerce it into a list.  Assign that list to the variable `city_values`."
   ]
  },
  {
   "cell_type": "code",
   "execution_count": null,
   "metadata": {
    "ExecuteTime": {
     "end_time": "2020-11-09T06:54:40.703112Z",
     "start_time": "2020-11-09T06:54:40.698075Z"
    }
   },
   "outputs": [],
   "source": [
    "city_values = None\n",
    "city_values # [906, 'New Orleans', 'USA', 343829]"
   ]
  },
  {
   "cell_type": "markdown",
   "metadata": {},
   "source": [
    "## Working with Data\n",
    "\n",
    "Most of the data used in this class will be stored somewhere and you'll have to read it in.\n",
    "We can retrieve our data from an excel spreadsheet ```cities.xlsx```.\n",
    "\n",
    "The spreadsheet is located in the ```./assets/datasets/cities.xlsx```. Next, we will use a **Pandas** to easily read this data from the excel file this notebook. "
   ]
  },
  {
   "cell_type": "code",
   "execution_count": null,
   "metadata": {
    "ExecuteTime": {
     "end_time": "2020-11-09T06:54:41.869747Z",
     "start_time": "2020-11-09T06:54:41.698047Z"
    }
   },
   "outputs": [],
   "source": [
    "file_name = './datasets/cities.xlsx'\n",
    "cities_df = pd.read_excel(file_name)\n",
    "cities = cities_df.to_dict('records') #'records' gives list of dictionaires as a result."
   ]
  },
  {
   "cell_type": "markdown",
   "metadata": {},
   "source": [
    "We'll discuss pandas in more detail soon. For now we're just using it as a simple way to get data into the notebook and convert it to a set of dictionaries.\n",
    "\n",
    "Let's take a look at what the data looks like now. List all the elements in ```cities.```"
   ]
  },
  {
   "cell_type": "code",
   "execution_count": null,
   "metadata": {
    "ExecuteTime": {
     "end_time": "2020-06-09T06:06:30.539502Z",
     "start_time": "2020-06-09T06:06:30.531714Z"
    }
   },
   "outputs": [],
   "source": []
  },
  {
   "cell_type": "markdown",
   "metadata": {},
   "source": [
    "We now have a list of dictionaries, one for each city.\n",
    "\n",
    "### List of cities\n",
    "\n",
    "First, access the third to last element and set it equal to the variable `tehran`."
   ]
  },
  {
   "cell_type": "code",
   "execution_count": null,
   "metadata": {
    "ExecuteTime": {
     "end_time": "2020-08-30T05:43:41.951965Z",
     "start_time": "2020-08-30T05:43:41.947012Z"
    }
   },
   "outputs": [],
   "source": [
    "tehran = None\n",
    "\n",
    "# {'City': 'Tehran', 'Country': 'Iran', 'Population': 9033000, 'Area': 1200}"
   ]
  },
  {
   "cell_type": "markdown",
   "metadata": {},
   "source": [
    "Set the population of Berlin equal to a variable called `berlin`."
   ]
  },
  {
   "cell_type": "code",
   "execution_count": null,
   "metadata": {
    "ExecuteTime": {
     "end_time": "2020-06-09T06:27:19.076212Z",
     "start_time": "2020-06-09T06:27:19.069326Z"
    }
   },
   "outputs": [],
   "source": [
    "berlin = None\n"
   ]
  },
  {
   "cell_type": "markdown",
   "metadata": {},
   "source": [
    "Now calculate the number of cities in the list and assign the number to the variable `city_count`."
   ]
  },
  {
   "cell_type": "code",
   "execution_count": null,
   "metadata": {
    "ExecuteTime": {
     "end_time": "2020-06-09T06:27:20.245808Z",
     "start_time": "2020-06-09T06:27:20.240826Z"
    },
    "scrolled": true
   },
   "outputs": [],
   "source": [
    " city_count = None\n"
   ]
  },
  {
   "cell_type": "markdown",
   "metadata": {},
   "source": [
    "Find the largest and smallest population. - Use a list comprehension to find the result. Print out the answer."
   ]
  },
  {
   "cell_type": "code",
   "execution_count": null,
   "metadata": {
    "ExecuteTime": {
     "end_time": "2020-06-09T06:29:00.168966Z",
     "start_time": "2020-06-09T06:29:00.163457Z"
    },
    "scrolled": true
   },
   "outputs": [],
   "source": [
    "\n",
    "\n"
   ]
  },
  {
   "cell_type": "markdown",
   "metadata": {},
   "source": [
    "Print the city dictionary for each of the largest and smallest population"
   ]
  },
  {
   "cell_type": "code",
   "execution_count": null,
   "metadata": {
    "ExecuteTime": {
     "end_time": "2020-08-30T05:35:28.438424Z",
     "start_time": "2020-08-30T05:35:28.434338Z"
    }
   },
   "outputs": [],
   "source": [
    "#Answer\n",
    "\n"
   ]
  },
  {
   "cell_type": "code",
   "execution_count": null,
   "metadata": {
    "ExecuteTime": {
     "end_time": "2020-08-30T05:35:20.817452Z",
     "start_time": "2020-08-30T05:35:20.812432Z"
    }
   },
   "outputs": [],
   "source": [
    "# Bonus: Try an alternate approach using a list comprehension"
   ]
  },
  {
   "cell_type": "markdown",
   "metadata": {},
   "source": [
    "Now let's work on retrieving a collection of information about a dictionary.  Use the appropriate dictionary method to obtain a list of values regarding Copenhagen. Assign the list to the variable `copenhagen_values`."
   ]
  },
  {
   "cell_type": "code",
   "execution_count": null,
   "metadata": {
    "ExecuteTime": {
     "end_time": "2020-06-09T06:32:54.338852Z",
     "start_time": "2020-06-09T06:32:54.333433Z"
    }
   },
   "outputs": [],
   "source": [
    "copenhagen_values = None"
   ]
  },
  {
   "cell_type": "code",
   "execution_count": null,
   "metadata": {
    "ExecuteTime": {
     "end_time": "2020-08-30T05:37:30.410463Z",
     "start_time": "2020-08-30T05:37:30.407321Z"
    }
   },
   "outputs": [],
   "source": [
    "\n"
   ]
  },
  {
   "cell_type": "markdown",
   "metadata": {},
   "source": [
    "And now set `copenhagen_keys` equal to a list of keys in the dictionary regarding Copenhagen."
   ]
  },
  {
   "cell_type": "code",
   "execution_count": null,
   "metadata": {
    "ExecuteTime": {
     "end_time": "2020-06-09T06:33:39.014696Z",
     "start_time": "2020-06-09T06:33:39.007818Z"
    }
   },
   "outputs": [],
   "source": [
    "copenhagen_keys = None\n"
   ]
  },
  {
   "cell_type": "markdown",
   "metadata": {},
   "source": [
    "## Bonus Exercises\n",
    "1. Find the city with the highest and smallest population density.\n",
    "2. Find the average population density.\n",
    "\n"
   ]
  },
  {
   "cell_type": "code",
   "execution_count": null,
   "metadata": {
    "ExecuteTime": {
     "end_time": "2020-06-09T06:38:38.074416Z",
     "start_time": "2020-06-09T06:38:38.066266Z"
    }
   },
   "outputs": [],
   "source": [
    "# largest & smallest population density\n",
    "\n"
   ]
  },
  {
   "cell_type": "code",
   "execution_count": null,
   "metadata": {
    "ExecuteTime": {
     "end_time": "2020-06-09T06:41:54.88041Z",
     "start_time": "2020-06-09T06:41:54.871056Z"
    }
   },
   "outputs": [],
   "source": [
    "# Average population density"
   ]
  },
  {
   "cell_type": "markdown",
   "metadata": {},
   "source": [
    "## Summary\n",
    "\n",
    "In this section we saw how to retrieve and re-assign data in a dictionary.  We saw how we can retrieve a collection of information from a dictionary, like a list of it's keys and values, and we saw how we can work with a list of dictionaries."
   ]
  },
  {
   "cell_type": "code",
   "execution_count": null,
   "metadata": {
    "ExecuteTime": {
     "end_time": "2020-09-22T04:13:24.612099Z",
     "start_time": "2020-09-22T04:13:24.604871Z"
    }
   },
   "outputs": [],
   "source": [
    "[x**2 for x in s ]"
   ]
  },
  {
   "cell_type": "code",
   "execution_count": null,
   "metadata": {},
   "outputs": [],
   "source": []
  }
 ],
 "metadata": {
  "kernelspec": {
   "display_name": "Python 3",
   "language": "python",
   "name": "python3"
  },
  "language_info": {
   "codemirror_mode": {
    "name": "ipython",
    "version": 3
   },
   "file_extension": ".py",
   "mimetype": "text/x-python",
   "name": "python",
   "nbconvert_exporter": "python",
   "pygments_lexer": "ipython3",
   "version": "3.7.3"
  },
  "toc": {
   "base_numbering": 1,
   "nav_menu": {},
   "number_sections": false,
   "sideBar": true,
   "skip_h1_title": false,
   "title_cell": "Table of Contents",
   "title_sidebar": "Contents",
   "toc_cell": false,
   "toc_position": {
    "height": "calc(100% - 180px)",
    "left": "10px",
    "top": "150px",
    "width": "300.391px"
   },
   "toc_section_display": true,
   "toc_window_display": false
  }
 },
 "nbformat": 4,
 "nbformat_minor": 2
}
